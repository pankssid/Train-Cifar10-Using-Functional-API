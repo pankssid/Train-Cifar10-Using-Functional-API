{
 "cells": [
  {
   "cell_type": "code",
   "execution_count": null,
   "metadata": {},
   "outputs": [
    {
     "name": "stderr",
     "output_type": "stream",
     "text": [
      "Using TensorFlow backend.\n"
     ]
    },
    {
     "name": "stdout",
     "output_type": "stream",
     "text": [
      "50000 train samples\n",
      "10000 test samples\n",
      "Train on 50000 samples, validate on 10000 samples\n",
      "Epoch 1/20\n",
      "50000/50000 [==============================] - 296s 6ms/step - loss: 1.7224 - acc: 0.3748 - val_loss: 1.3344 - val_acc: 0.5175\n",
      "Epoch 2/20\n",
      "50000/50000 [==============================] - 300s 6ms/step - loss: 1.3104 - acc: 0.5337 - val_loss: 1.1475 - val_acc: 0.6067\n",
      "Epoch 3/20\n",
      "50000/50000 [==============================] - 288s 6ms/step - loss: 1.1047 - acc: 0.6103 - val_loss: 0.9594 - val_acc: 0.6635\n",
      "Epoch 4/20\n",
      "50000/50000 [==============================] - 246s 5ms/step - loss: 0.9577 - acc: 0.6644 - val_loss: 0.9202 - val_acc: 0.6717\n",
      "Epoch 5/20\n",
      "50000/50000 [==============================] - 301s 6ms/step - loss: 0.8527 - acc: 0.7017 - val_loss: 0.8465 - val_acc: 0.7021\n",
      "Epoch 6/20\n",
      "50000/50000 [==============================] - 201s 4ms/step - loss: 0.7659 - acc: 0.7329 - val_loss: 0.8251 - val_acc: 0.7214\n",
      "Epoch 7/20\n",
      "25600/50000 [==============>...............] - ETA: 3:03 - loss: 0.7036 - acc: 0.7586"
     ]
    }
   ],
   "source": [
    "\n",
    "\n",
    "from __future__ import print_function\n",
    "\n",
    "import keras\n",
    "from keras.datasets import cifar10\n",
    "from keras.models import Sequential,Model\n",
    "from keras.layers import Dense, Dropout,Input,Conv2D,MaxPooling2D,Flatten\n",
    "from keras.optimizers import RMSprop\n",
    "\n",
    "\n",
    "batch_size = 128\n",
    "num_classes = 10\n",
    "epochs = 20\n",
    "\n",
    "# the data, split between train and test sets\n",
    "(x_train, y_train), (x_test, y_test) = cifar10.load_data()\n",
    "\n",
    "x_train = x_train.reshape(50000, 32,32,3)\n",
    "x_test = x_test.reshape(10000,32,32,3)\n",
    "x_train = x_train.astype('float32')\n",
    "x_test = x_test.astype('float32')\n",
    "x_train /= 255\n",
    "x_test /= 255\n",
    "print(x_train.shape[0], 'train samples')\n",
    "print(x_test.shape[0], 'test samples')\n",
    "\n",
    "# convert class vectors to binary class matrices\n",
    "y_train = keras.utils.to_categorical(y_train, num_classes)\n",
    "y_test = keras.utils.to_categorical(y_test, num_classes)\n",
    "\n",
    "#model = Sequential()\n",
    "#model.add(Dense(512, activation='relu', input_shape=(3072,)))\n",
    "#model.add(Dropout(0.2))\n",
    "#model.add(Dense(512, activation='relu'))\n",
    "#model.add(Dropout(0.2))\n",
    "#Emodel.add(Dense(num_classes, activation='softmax'))\n",
    "\n",
    "#model.summary()\n",
    "\n",
    "Input=Input(shape=(32,32,3))\n",
    "\n",
    "x=Conv2D(32,(3,3),activation='relu')(Input)\n",
    "x=Conv2D(32,(3,3),activation='relu')(x)\n",
    "x=MaxPooling2D(2,2)(x)\n",
    "x=Dropout(0.2)(x)\n",
    "\n",
    "x=Conv2D(64,(3,3),activation='relu')(x)\n",
    "x=Conv2D(64,(3,3),activation='relu')(x)\n",
    "x=MaxPooling2D(2,2)(x)\n",
    "x=Dropout(0.2)(x)\n",
    "\n",
    "x=Flatten()(x)\n",
    "\n",
    "x = Dense(512,activation='relu')(x)\n",
    "x = Dropout(0.2)(x)\n",
    "p= Dense(10,activation='softmax')(x)\n",
    "\n",
    "model=Model(inputs=Input,outputs=p)\n",
    "model.compile(loss='categorical_crossentropy',\n",
    "              optimizer=RMSprop(),\n",
    "              metrics=['accuracy'])\n",
    "\n",
    "history = model.fit(x_train, y_train,\n",
    "                    batch_size=batch_size,\n",
    "                    epochs=epochs,\n",
    "                    verbose=1,\n",
    "                    validation_data=(x_test, y_test))\n",
    "score = model.evaluate(x_test, y_test, verbose=0)\n",
    "print('Test loss:', score[0])\n",
    "print('Test accuracy:', score[1])\n"
   ]
  },
  {
   "cell_type": "code",
   "execution_count": null,
   "metadata": {},
   "outputs": [],
   "source": []
  }
 ],
 "metadata": {
  "kernelspec": {
   "display_name": "Python 3",
   "language": "python",
   "name": "python3"
  },
  "language_info": {
   "codemirror_mode": {
    "name": "ipython",
    "version": 3
   },
   "file_extension": ".py",
   "mimetype": "text/x-python",
   "name": "python",
   "nbconvert_exporter": "python",
   "pygments_lexer": "ipython3",
   "version": "3.6.5"
  }
 },
 "nbformat": 4,
 "nbformat_minor": 2
}
